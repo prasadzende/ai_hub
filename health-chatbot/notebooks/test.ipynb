{
 "cells": [
  {
   "cell_type": "code",
   "execution_count": 2,
   "id": "c097c3e1",
   "metadata": {},
   "outputs": [],
   "source": [
    "from langchain_ollama import ChatOllama"
   ]
  },
  {
   "cell_type": "code",
   "execution_count": 5,
   "id": "5306554d",
   "metadata": {},
   "outputs": [],
   "source": [
    "llm = ChatOllama(model=\"llama3.2\")"
   ]
  },
  {
   "cell_type": "code",
   "execution_count": 6,
   "id": "91f21763",
   "metadata": {},
   "outputs": [
    {
     "data": {
      "text/plain": [
       "AIMessage(content='Je aime le programmement.\\n\\n(Note: \"programmer\" is translated to \"programmer\" with an accent, which is the standard way to indicate that it\\'s a loanword from another language. If you want to use the more formal translation \"rédacteur informatique\", I can provide it as well.)\\n\\nOr, using \"rédacteur informatique\":\\n\\n Je aime le rédacteur informatique.\\n\\nLet me know if you\\'d like any other translations!', additional_kwargs={}, response_metadata={'model': 'llama3.2', 'created_at': '2025-07-06T20:22:19.371423416Z', 'done': True, 'done_reason': 'stop', 'total_duration': 6183535569, 'load_duration': 24570520, 'prompt_eval_count': 45, 'prompt_eval_duration': 760227267, 'eval_count': 97, 'eval_duration': 5397622993, 'model_name': 'llama3.2'}, id='run--699ad29f-afbc-4138-af7c-b3fd36a51b2e-0', usage_metadata={'input_tokens': 45, 'output_tokens': 97, 'total_tokens': 142})"
      ]
     },
     "execution_count": 6,
     "metadata": {},
     "output_type": "execute_result"
    }
   ],
   "source": [
    "messages = [\n",
    "    (\n",
    "        \"system\",\n",
    "        \"You are a helpful assistant that translates English to French. Translate the user sentence.\",\n",
    "    ),\n",
    "    (\"human\", \"I love programming.\"),\n",
    "]\n",
    "ai_msg = llm.invoke(messages)\n",
    "ai_msg"
   ]
  },
  {
   "cell_type": "code",
   "execution_count": null,
   "id": "5a6213cc",
   "metadata": {},
   "outputs": [],
   "source": []
  }
 ],
 "metadata": {
  "kernelspec": {
   "display_name": "ai-trip-planner",
   "language": "python",
   "name": "python3"
  },
  "language_info": {
   "codemirror_mode": {
    "name": "ipython",
    "version": 3
   },
   "file_extension": ".py",
   "mimetype": "text/x-python",
   "name": "python",
   "nbconvert_exporter": "python",
   "pygments_lexer": "ipython3",
   "version": "3.13.2"
  }
 },
 "nbformat": 4,
 "nbformat_minor": 5
}
