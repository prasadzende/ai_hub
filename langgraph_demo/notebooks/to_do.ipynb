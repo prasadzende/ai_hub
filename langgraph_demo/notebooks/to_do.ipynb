{
 "cells": [
  {
   "cell_type": "code",
   "execution_count": 1,
   "id": "668799d3",
   "metadata": {},
   "outputs": [],
   "source": [
    "from typing import Annotated, Sequence, TypedDict\n",
    "from dotenv import load_dotenv  \n",
    "from langchain_core.messages import BaseMessage, HumanMessage, AIMessage, ToolMessage, SystemMessage\n",
    "from langchain_core.tools import tool\n",
    "from langgraph.graph.message import add_messages\n",
    "from langgraph.graph import StateGraph, END\n",
    "from langgraph.prebuilt import ToolNode\n",
    "from langchain.chat_models import init_chat_model"
   ]
  },
  {
   "cell_type": "code",
   "execution_count": 3,
   "id": "5480009c",
   "metadata": {},
   "outputs": [],
   "source": [
    "todo_list = []\n",
    "\n",
    "class AgentState(TypedDict):\n",
    "    messages: Annotated[Sequence[BaseMessage], add_messages]\n"
   ]
  },
  {
   "cell_type": "code",
   "execution_count": 4,
   "id": "07f969a1",
   "metadata": {},
   "outputs": [],
   "source": [
    "@tool\n",
    "def add_task(task: str) -> str:\n",
    "    \"\"\"Add a task to the to-do list.\"\"\"\n",
    "    todo_list.append(task)\n",
    "    return f\"Task '{task}' added! Current tasks: {todo_list}\""
   ]
  },
  {
   "cell_type": "code",
   "execution_count": 5,
   "id": "cd397578",
   "metadata": {},
   "outputs": [],
   "source": [
    "tools = [add_task]\n",
    "\n",
    "model = init_chat_model(\"ollama:llama3.2\").bind_tools(tools)"
   ]
  },
  {
   "cell_type": "code",
   "execution_count": 6,
   "id": "4ddd5c90",
   "metadata": {},
   "outputs": [],
   "source": [
    "def todo_agent(state: AgentState) -> AgentState:\n",
    "    user_input = input(\"What task would you like to add to your to-do list? \")\n",
    "    result = add_task(user_input)\n",
    "    print(result)\n",
    "    # Optionally, add the message to the state\n",
    "    state[\"messages\"] = state.get(\"messages\", []) + [HumanMessage(content=user_input), SystemMessage(content=result)]\n",
    "    return state"
   ]
  },
  {
   "cell_type": "code",
   "execution_count": 7,
   "id": "990207fc",
   "metadata": {},
   "outputs": [
    {
     "name": "stdout",
     "output_type": "stream",
     "text": [
      "Task 'Get Vegetables' added! Current tasks: ['Get Vegetables']\n"
     ]
    },
    {
     "name": "stderr",
     "output_type": "stream",
     "text": [
      "/tmp/ipykernel_205911/4177594030.py:3: LangChainDeprecationWarning: The method `BaseTool.__call__` was deprecated in langchain-core 0.1.47 and will be removed in 1.0. Use :meth:`~invoke` instead.\n",
      "  result = add_task(user_input)\n"
     ]
    },
    {
     "data": {
      "text/plain": [
       "{'messages': [HumanMessage(content='Get Vegetables', additional_kwargs={}, response_metadata={}, id='c15cd986-24f8-450c-b43c-d10c569f08a2'),\n",
       "  SystemMessage(content=\"Task 'Get Vegetables' added! Current tasks: ['Get Vegetables']\", additional_kwargs={}, response_metadata={}, id='eb383e32-eb53-45bb-aab9-348f0d413925')]}"
      ]
     },
     "execution_count": 7,
     "metadata": {},
     "output_type": "execute_result"
    }
   ],
   "source": [
    "graph = StateGraph(AgentState)\n",
    "graph.add_node(\"todo_agent\", todo_agent)\n",
    "graph.set_entry_point(\"todo_agent\")\n",
    "graph.add_edge(\"todo_agent\", END)\n",
    "\n",
    "# 5. Compile and run\n",
    "app = graph.compile()\n",
    "\n",
    "# 6. Run the agent (will prompt for input)\n",
    "state = {\"messages\": []}\n",
    "app.invoke(state)"
   ]
  },
  {
   "cell_type": "code",
   "execution_count": 8,
   "id": "34073ee7",
   "metadata": {},
   "outputs": [
    {
     "data": {
      "image/png": "[encoded data removed]",
      "text/plain": [
       "<IPython.core.display.Image object>"
      ]
     },
     "metadata": {},
     "output_type": "display_data"
    }
   ],
   "source": [
    "from IPython.display import Image, display\n",
    "display(Image(app.get_graph().draw_mermaid_png()))"
   ]
  },
  {
   "cell_type": "code",
   "execution_count": null,
   "id": "4ba79e36",
   "metadata": {},
   "outputs": [],
   "source": []
  }
 ],
 "metadata": {
  "kernelspec": {
   "display_name": "langgraph-demo",
   "language": "python",
   "name": "python3"
  },
  "language_info": {
   "codemirror_mode": {
    "name": "ipython",
    "version": 3
   },
   "file_extension": ".py",
   "mimetype": "text/x-python",
   "name": "python",
   "nbconvert_exporter": "python",
   "pygments_lexer": "ipython3",
   "version": "3.11.13"
  }
 },
 "nbformat": 4,
 "nbformat_minor": 5
}
