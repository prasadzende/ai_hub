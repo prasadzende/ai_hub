{
 "cells": [
  {
   "cell_type": "code",
   "execution_count": null,
   "id": "c5e7f237",
   "metadata": {},
   "outputs": [],
   "source": []
  },
  {
   "cell_type": "code",
   "execution_count": 7,
   "id": "29d67618",
   "metadata": {},
   "outputs": [
    {
     "name": "stdout",
     "output_type": "stream",
     "text": [
      "Index(['Patient_ID', 'Age', 'Gender', 'Nationality', 'Emirate',\n",
      "       'Diagnosis_Date', 'Cancer_Type', 'Cancer_Stage', 'Treatment_Type',\n",
      "       'Treatment_Start_Date', 'Hospital', 'Primary_Physician', 'Outcome',\n",
      "       'Death_Date', 'Cause_of_Death', 'Smoking_Status', 'Comorbidities',\n",
      "       'Ethnicity', 'Weight', 'Height'],\n",
      "      dtype='object')\n"
     ]
    }
   ],
   "source": [
    "import pandas as pd\n",
    "import sqlite3\n",
    "\n",
    "# Read the CSV file into a Pandas DataFrame\n",
    "df = pd.read_csv('../data/cancer_dataset_uae.csv')\n",
    "\n",
    "# Create a new SQLite database connection\n",
    "conn = sqlite3.connect('patients.db')\n",
    "c = conn.cursor()\n",
    "\n",
    "# Define the table and column names based on the CSV file headers\n",
    "table_name = 'patients_details'\n",
    "column_names = df.columns  # Skip the first row (header)\n",
    "print(column_names)\n",
    "# Create a new SQLite table based on the column names and data types\n",
    "c.execute(\"CREATE TABLE IF NOT EXISTS %s (%s)\" % (table_name, ', '.join(column_names)))\n",
    "\n",
    "# Insert the data from the DataFrame into the SQLite table\n",
    "df.to_sql(table_name, conn, if_exists='append', index=False)\n",
    "\n",
    "# Commit the changes to the database\n",
    "conn.commit()\n",
    "\n",
    "# Close the connection to the SQLite database\n",
    "conn.close()"
   ]
  },
  {
   "cell_type": "code",
   "execution_count": 6,
   "id": "ec29a02d",
   "metadata": {},
   "outputs": [
    {
     "data": {
      "text/plain": [
       "Index(['Patient_ID', 'Age', 'Gender', 'Nationality', 'Emirate',\n",
       "       'Diagnosis_Date', 'Cancer_Type', 'Cancer_Stage', 'Treatment_Type',\n",
       "       'Treatment_Start_Date', 'Hospital', 'Primary_Physician', 'Outcome',\n",
       "       'Death_Date', 'Cause_of_Death', 'Smoking_Status', 'Comorbidities',\n",
       "       'Ethnicity', 'Weight', 'Height'],\n",
       "      dtype='object')"
      ]
     },
     "execution_count": 6,
     "metadata": {},
     "output_type": "execute_result"
    }
   ],
   "source": [
    "df = pd.read_csv('../data/cancer_dataset_uae.csv', index_col=False)\n",
    "df.columns"
   ]
  },
  {
   "cell_type": "code",
   "execution_count": null,
   "id": "06b0d07b",
   "metadata": {},
   "outputs": [],
   "source": []
  }
 ],
 "metadata": {
  "kernelspec": {
   "display_name": "ai_hub",
   "language": "python",
   "name": "python3"
  },
  "language_info": {
   "codemirror_mode": {
    "name": "ipython",
    "version": 3
   },
   "file_extension": ".py",
   "mimetype": "text/x-python",
   "name": "python",
   "nbconvert_exporter": "python",
   "pygments_lexer": "ipython3",
   "version": "3.11.13"
  }
 },
 "nbformat": 4,
 "nbformat_minor": 5
}
